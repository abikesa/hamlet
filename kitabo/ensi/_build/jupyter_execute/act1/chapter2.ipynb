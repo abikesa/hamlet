{
 "cells": [
  {
   "cell_type": "markdown",
   "metadata": {},
   "source": [
    "# Weakness\n",
    "\n",
    "This is th’imposthume of much wealth and peace,         \n",
    "That inward breaks, and shows no cause without        \n",
    "Why the man dies.      \n",
    "-- Hamlet\n",
    "\n",
    "```{seealso}\n",
    "{ref}`health`\n",
    "```\n",
    "\n",
    "In the archetypal layer we see a node for \"Inferno (Weakness)\". Unlike the embodiment and tokenization of cooperative and transactional equilibria, adversarial equilibria are characterized by transformation of adversaries into predators, sniffing out for any faultlines and weaknesses of their opponents.\n",
    "\n",
    "Norway recognized the \"much wealth and peace\" in Denmark, which breeds hedonism and the neglect of such vigilance as befits worthy adversaries."
   ]
  }
 ],
 "metadata": {
  "kernelspec": {
   "display_name": "myenv",
   "language": "python",
   "name": "python3"
  },
  "language_info": {
   "codemirror_mode": {
    "name": "ipython",
    "version": 3
   },
   "file_extension": ".py",
   "mimetype": "text/x-python",
   "name": "python",
   "nbconvert_exporter": "python",
   "pygments_lexer": "ipython3",
   "version": "3.12.4"
  },
  "widgets": {
   "application/vnd.jupyter.widget-state+json": {
    "state": {},
    "version_major": 2,
    "version_minor": 0
   }
  }
 },
 "nbformat": 4,
 "nbformat_minor": 4
}