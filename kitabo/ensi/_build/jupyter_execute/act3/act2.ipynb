{
 "cells": [
  {
   "cell_type": "markdown",
   "metadata": {},
   "source": [
    "# Pyrrus\n",
    "\n",
    "```{figure} ../figures/polina.png\n",
    "---\n",
    "width: 100%\n",
    "height: 100%\n",
    "---\n",
    "_Archetypal_. We only think of three things: emotional, archetypal, and relational. \n",
    "```\n",
    "\n",
    "The parallels between Plutarch's *Life of Pyrrhus* and the unrelenting adversarial mode of the Taxi Driver protagonist are compelling. Both figures embody a kind of restless, warlike nature that defies the stability and repose of a life lived in balance or harmony. They are, in essence, consumed by their adversarial pathways—Pyrrhus through the battlefield, and Travis Bickle through his internal war against the perceived moral decay of the world.\n",
    "\n",
    "1. **Commitment to Adversarial Mode**  \n",
    "   Pyrrhus, after losing Macedonia, could have chosen peace and contentment ruling Epirus. Instead, his insatiable need for conflict drove him to seek new wars. Similarly, Travis Bickle, disillusioned with society, finds purpose in perpetual combat—his adversaries being not only the criminals of New York but also his existential isolation and discontent. For both, adversarial engagement is not just a choice but an identity. It's how they assert meaning in an otherwise chaotic or stagnant existence.\n",
    "\n",
    "2. **No End to the Adversaries**  \n",
    "   Pyrrhus's life was a series of campaigns, one feeding into the next—a \"next token\" existence where each battle leads to another opportunity for glory, or ruin. Travis mirrors this in his escalating obsession, where each confrontation (whether with himself, others, or the world) pushes him closer to his final act of vigilante violence. Neither man envisions an endpoint; the adversarial mode perpetuates itself. \n",
    "\n",
    "3. **Martyrdom as the Endpoint**  \n",
    "   For Pyrrhus, the culmination of his adversarial drive was his death, ironically struck down in the chaos of a battle in Argos. His legacy, like Achilles's, is forged in the crucible of combat, even at the cost of his own life. Travis, on the other hand, oscillates between fantasies of annihilation and martyrdom, craving the ultimate act of violence where his death might cement his identity as a savior or redeemer in a broken world. Both figures exemplify a death-drive channeled through adversarial pursuits, where the final sacrifice isn't just accepted but embraced.\n",
    "\n",
    "4. **Lunacy or Heroism?**  \n",
    "   Pyrrhus's relentless campaigns were seen by some as the mark of a heroic spirit, yet by others as the folly of a man who could not find peace. Similarly, Travis's actions could be interpreted as lunacy—a descent into madness fueled by alienation and trauma—or as a warped form of heroism, standing against the moral decay he perceives around him. In either case, their commitment to conflict blurs the line between noble ambition and self-destructive insanity.\n",
    "\n",
    "Both Pyrrhus and Travis are tragic figures locked in adversarial loops. Their stories highlight the intoxicating pull of battle—whether on literal battlefields or in the metaphorical war zones of urban decay. This commitment, while undeniably profound, ultimately consumes them, leaving behind legacies that are as much cautionary as they are captivating.\n",
    "\n"
   ]
  }
 ],
 "metadata": {
  "kernelspec": {
   "display_name": "myenv",
   "language": "python",
   "name": "python3"
  },
  "language_info": {
   "codemirror_mode": {
    "name": "ipython",
    "version": 3
   },
   "file_extension": ".py",
   "mimetype": "text/x-python",
   "name": "python",
   "nbconvert_exporter": "python",
   "pygments_lexer": "ipython3",
   "version": "3.12.4"
  },
  "widgets": {
   "application/vnd.jupyter.widget-state+json": {
    "state": {},
    "version_major": 2,
    "version_minor": 0
   }
  }
 },
 "nbformat": 4,
 "nbformat_minor": 4
}